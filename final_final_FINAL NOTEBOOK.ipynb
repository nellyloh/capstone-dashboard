{
 "cells": [
  {
   "cell_type": "code",
   "execution_count": 5,
   "metadata": {},
   "outputs": [],
   "source": [
    "import dateutil.parser as parser\n",
    "import pinyin"
   ]
  },
  {
   "cell_type": "code",
   "execution_count": 6,
   "metadata": {},
   "outputs": [],
   "source": [
    "def preprocess_input_to_dict(name, nationality, gender, dob):\n",
    "    def get_year(date):\n",
    "        try:\n",
    "            parser_obj = parser.parse(str(date))\n",
    "            return parser_obj.year\n",
    "        except:\n",
    "            return None\n",
    "\n",
    "    def get_month(date):\n",
    "        if len(str(date))>4:\n",
    "            try:\n",
    "                return parser.parse(str(date)).month\n",
    "            except:\n",
    "                return None\n",
    "        else:\n",
    "            return None\n",
    "            \n",
    "    def get_day(date):\n",
    "        if len(str(date))>4:\n",
    "            try:\n",
    "                return parser.parse(str(date)).day\n",
    "            except:\n",
    "                return None\n",
    "        else:\n",
    "            return None\n",
    "    \n",
    "    def isEnglish(s):\n",
    "        try:\n",
    "            s.encode(encoding='utf-8').decode('ascii')\n",
    "        except:\n",
    "            return False\n",
    "        else:\n",
    "            return True\n",
    "\n",
    "    if name is not None:\n",
    "        name_is_english = isEnglish(name)\n",
    "        if name_is_english is False:\n",
    "            try:\n",
    "                name = pinyin.get(name, format='strip', delimiter=' ')\n",
    "            except:\n",
    "                name = None\n",
    "        current_record = {\n",
    "            'name' : name,\n",
    "            'year_of_birth': get_year(dob),\n",
    "            'month_of_birth': get_month(dob),\n",
    "            'day_of_birth': get_day(dob),\n",
    "            'gender': gender,\n",
    "            'nationality': nationality\n",
    "        }\n",
    "            \n",
    "    return current_record"
   ]
  }
 ],
 "metadata": {
  "interpreter": {
   "hash": "b7f233ba6428c070c83283cc4087d85d1058eae9a4c9302596a9ccd1b9406e5b"
  },
  "kernelspec": {
   "display_name": "Python 3.8.5 64-bit ('base': conda)",
   "name": "python3"
  },
  "language_info": {
   "codemirror_mode": {
    "name": "ipython",
    "version": 3
   },
   "file_extension": ".py",
   "mimetype": "text/x-python",
   "name": "python",
   "nbconvert_exporter": "python",
   "pygments_lexer": "ipython3",
   "version": "3.8.5"
  },
  "orig_nbformat": 4
 },
 "nbformat": 4,
 "nbformat_minor": 2
}
